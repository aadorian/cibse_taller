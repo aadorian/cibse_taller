{
  "nbformat": 4,
  "nbformat_minor": 0,
  "metadata": {
    "colab": {
      "provenance": []
    },
    "kernelspec": {
      "name": "python3",
      "display_name": "Python 3"
    },
    "accelerator": "GPU",
    "gpuClass": "standard"
  },
  "cells": [
    {
      "cell_type": "markdown",
      "source": [
        "# Data Profiling utilizando Python Pandas\n",
        "\n",
        "> \n",
        "\n"
      ],
      "metadata": {
        "id": "Z-eRuYA7a51v"
      }
    },
    {
      "cell_type": "markdown",
      "source": [
        "## Configuración de ambiente\n",
        "\n",
        "Se debe instalar la biblioteca pandas-profiling. Luego importar Pandas y ProfileReport.\n",
        "\n",
        "Notar que luego de instalar la biblioteca se debe reiniciar el kernel, apretando Start Runtime.\n",
        "\n",
        "Finalmente nos debemos asegurar de que los archivos de datos están accesibles."
      ],
      "metadata": {
        "id": "uiCMPPZ_s7dq"
      }
    },
    {
      "cell_type": "code",
      "source": [
        "# Instalación de pandas-profiling\n",
        "\n",
        "! pip install ydata-profiling\n"
      ],
      "metadata": {
        "id": "PZAocNjefriv"
      },
      "execution_count": null,
      "outputs": []
    },
    {
      "cell_type": "code",
      "source": [
        "# Bibliotecas a utilizar\n",
        "\n",
        "import pandas as pd\n",
        "from ydata_profiling import ProfileReport"
      ],
      "metadata": {
        "id": "woD0RoxvsHZK"
      },
      "execution_count": null,
      "outputs": []
    },
    {
      "cell_type": "code",
      "metadata": {
        "id": "LStVC8M6nqPR"
      },
      "source": [
        "# Accedemos a la ubicación del archivo de datos\n",
        "\n",
        "from google.colab import drive\n",
        "drive.mount('/content/gdrive')\n",
        "\n",
        "PATH = \"/content/gdrive/MyDrive/cibse\" "
      ],
      "execution_count": null,
      "outputs": []
    },
    {
      "cell_type": "markdown",
      "source": [
        "## Cargamos los archivos de datos csv a Pandas\n",
        "\n",
        "Los datos se cargan en estructuras llamadas DataFrame para poder trabajar con ellos."
      ],
      "metadata": {
        "id": "meK55Vf-gebR"
      }
    },
    {
      "cell_type": "code",
      "source": [
        "# Cargar el archivo CSV en un DataFrame\n",
        "\n",
        "emisivos = pd.read_csv(PATH + '/emisivos.csv', sep=';')\n",
        "emisivos"
      ],
      "metadata": {
        "id": "9odfPs_ygCuK"
      },
      "execution_count": null,
      "outputs": []
    },
    {
      "cell_type": "code",
      "source": [
        "# Profiling básico\n",
        "\n",
        "print(\"DESCRIBE:\\n\")\n",
        "print(emisivos.describe())\n",
        "print(\"\\n--------------------------------------------------------------------------------\\n\")\n",
        "print(\"INFO:\\n\")\n",
        "print(emisivos.info())"
      ],
      "metadata": {
        "id": "2Z9OAkR1mqXi"
      },
      "execution_count": null,
      "outputs": []
    },
    {
      "cell_type": "markdown",
      "source": [
        "## Data Profiling"
      ],
      "metadata": {
        "id": "HiqEBhRztJHs"
      }
    },
    {
      "cell_type": "code",
      "source": [
        "report = ProfileReport(emisivos, minimal=True)\n",
        "report\n",
        "# report.to_file(\"output.html\")"
      ],
      "metadata": {
        "id": "2WUEelQFtNi1"
      },
      "execution_count": null,
      "outputs": []
    }
  ]
}